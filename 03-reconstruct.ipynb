{
 "cells": [
  {
   "cell_type": "markdown",
   "metadata": {},
   "source": [
    "# Step 3: Reconstruct"
   ]
  },
  {
   "cell_type": "code",
   "execution_count": 1,
   "metadata": {},
   "outputs": [],
   "source": [
    "distances = [15]\n",
    "doubleplanes = [12]\n",
    "energies = [500]\n",
    "erels = [50, 100, 200, 400, 1000, 2000]\n",
    "neutrons = [1, 2, 3, 4]\n",
    "physicss = [\"inclxx\"]"
   ]
  },
  {
   "cell_type": "markdown",
   "metadata": {},
   "source": [
    "## a) Run reconstruction"
   ]
  },
  {
   "cell_type": "code",
   "execution_count": 2,
   "metadata": {},
   "outputs": [
    {
     "name": "stdout",
     "output_type": "stream",
     "text": [
      "Welcome to JupyROOT 6.16/00\n"
     ]
    },
    {
     "name": "stderr",
     "output_type": "stream",
     "text": [
      "[Parallel(n_jobs=-1)]: Using backend LokyBackend with 32 concurrent workers.\n",
      "[Parallel(n_jobs=-1)]: Done  11 out of  24 | elapsed:  6.2min remaining:  7.3min\n",
      "[Parallel(n_jobs=-1)]: Done  24 out of  24 | elapsed:  7.1min finished\n"
     ]
    },
    {
     "name": "stdout",
     "output_type": "stream",
     "text": [
      "Done\n"
     ]
    }
   ],
   "source": [
    "import joblib\n",
    "from reconstruction import reconstruction\n",
    "\n",
    "joblib.Parallel(n_jobs=-1, backend=\"loky\", verbose=1)(\n",
    "    joblib.delayed(reconstruction)(\n",
    "        distance=distance, doubleplane=doubleplane, energy=energy, erel=erel, neutron=neutron, physics=physics,\n",
    "    )\n",
    "    for distance in distances\n",
    "    for energy in energies\n",
    "    for doubleplane in doubleplanes\n",
    "    for neutron in neutrons\n",
    "    for erel in erels\n",
    "    for physics in physicss\n",
    ")\n",
    "\n",
    "print(\"Done\")"
   ]
  },
  {
   "cell_type": "markdown",
   "metadata": {},
   "source": [
    "## b) Check for succesful execution"
   ]
  },
  {
   "cell_type": "code",
   "execution_count": 3,
   "metadata": {},
   "outputs": [
    {
     "name": "stderr",
     "output_type": "stream",
     "text": [
      "[Parallel(n_jobs=-1)]: Using backend MultiprocessingBackend with 32 concurrent workers.\n",
      "[Parallel(n_jobs=-1)]: Done  11 out of  24 | elapsed:    1.8s remaining:    2.1s\n",
      "[Parallel(n_jobs=-1)]: Done  24 out of  24 | elapsed:    2.1s finished\n"
     ]
    }
   ],
   "source": [
    "import joblib\n",
    "import pandas as pd\n",
    "from helpers import processed_events\n",
    "\n",
    "evts = pd.DataFrame(\n",
    "    joblib.Parallel(n_jobs=-1, backend=\"multiprocessing\", verbose=1)(\n",
    "        joblib.delayed(processed_events)(\n",
    "            distance=distance,\n",
    "            doubleplane=doubleplane,\n",
    "            energy=energy,\n",
    "            erel=erel,\n",
    "            neutron=neutron,\n",
    "            physics=physics,\n",
    "            what=\".reco.root\",\n",
    "        )\n",
    "        for distance in distances\n",
    "        for energy in energies\n",
    "        for doubleplane in doubleplanes\n",
    "        for neutron in neutrons\n",
    "        for erel in erels\n",
    "        for physics in physicss\n",
    "    )\n",
    ")"
   ]
  },
  {
   "cell_type": "code",
   "execution_count": 4,
   "metadata": {},
   "outputs": [
    {
     "data": {
      "text/html": [
       "<div>\n",
       "<style scoped>\n",
       "    .dataframe tbody tr th:only-of-type {\n",
       "        vertical-align: middle;\n",
       "    }\n",
       "\n",
       "    .dataframe tbody tr th {\n",
       "        vertical-align: top;\n",
       "    }\n",
       "\n",
       "    .dataframe thead th {\n",
       "        text-align: right;\n",
       "    }\n",
       "</style>\n",
       "<table border=\"1\" class=\"dataframe\">\n",
       "  <thead>\n",
       "    <tr style=\"text-align: right;\">\n",
       "      <th></th>\n",
       "      <th>File</th>\n",
       "      <th>Events</th>\n",
       "    </tr>\n",
       "  </thead>\n",
       "  <tbody>\n",
       "    <tr>\n",
       "      <th>4</th>\n",
       "      <td>output/inclxx/15m_12dp_500AMeV_1000keV_1n.reco...</td>\n",
       "      <td>10000</td>\n",
       "    </tr>\n",
       "    <tr>\n",
       "      <th>10</th>\n",
       "      <td>output/inclxx/15m_12dp_500AMeV_1000keV_2n.reco...</td>\n",
       "      <td>10000</td>\n",
       "    </tr>\n",
       "    <tr>\n",
       "      <th>...</th>\n",
       "      <td>...</td>\n",
       "      <td>...</td>\n",
       "    </tr>\n",
       "    <tr>\n",
       "      <th>12</th>\n",
       "      <td>output/inclxx/15m_12dp_500AMeV_50keV_3n.reco.root</td>\n",
       "      <td>10000</td>\n",
       "    </tr>\n",
       "    <tr>\n",
       "      <th>18</th>\n",
       "      <td>output/inclxx/15m_12dp_500AMeV_50keV_4n.reco.root</td>\n",
       "      <td>10000</td>\n",
       "    </tr>\n",
       "  </tbody>\n",
       "</table>\n",
       "<p>24 rows × 2 columns</p>\n",
       "</div>"
      ],
      "text/plain": [
       "                                                 File  Events\n",
       "4   output/inclxx/15m_12dp_500AMeV_1000keV_1n.reco...   10000\n",
       "10  output/inclxx/15m_12dp_500AMeV_1000keV_2n.reco...   10000\n",
       "..                                                ...     ...\n",
       "12  output/inclxx/15m_12dp_500AMeV_50keV_3n.reco.root   10000\n",
       "18  output/inclxx/15m_12dp_500AMeV_50keV_4n.reco.root   10000\n",
       "\n",
       "[24 rows x 2 columns]"
      ]
     },
     "metadata": {},
     "output_type": "display_data"
    }
   ],
   "source": [
    "pd.options.display.max_rows = 5\n",
    "evts.columns = [\"File\", \"Events\"]\n",
    "evts.sort_values(by=[\"Events\", \"File\"], ascending=[True, True], inplace=True)\n",
    "evts.style.hide_index().format({\"Events\": \"{:d}\"})\n",
    "display(evts)"
   ]
  },
  {
   "cell_type": "markdown",
   "metadata": {},
   "source": [
    "## c) Inspect example file"
   ]
  },
  {
   "cell_type": "code",
   "execution_count": 1,
   "metadata": {},
   "outputs": [
    {
     "name": "stdout",
     "output_type": "stream",
     "text": [
      "Welcome to JupyROOT 6.16/00\n"
     ]
    }
   ],
   "source": [
    "from helpers import filename_for\n",
    "import pandas as pd\n",
    "import numpy as np\n",
    "import ROOT"
   ]
  },
  {
   "cell_type": "code",
   "execution_count": 2,
   "metadata": {},
   "outputs": [
    {
     "name": "stdout",
     "output_type": "stream",
     "text": [
      "3200.0\n"
     ]
    },
    {
     "data": {
      "image/png": "[encoded data removed]",
      "text/plain": [
       "<IPython.core.display.Image object>"
      ]
     },
     "metadata": {},
     "output_type": "display_data"
    }
   ],
   "source": [
    "neutron = 4\n",
    "fn = filename_for(distance=15, doubleplane=12, energy=500, erel=200, neutron=neutron, physics=\"inclxx\", what=\".reco.root\")\n",
    "f = ROOT.TFile.Open(fn)\n",
    "\n",
    "c1 = ROOT.TCanvas(\"c1\", \"c1\", 800, 600)\n",
    "\n",
    "h1 = f.Get(f\"NeulandRecoCheatCheat/fhErel{neutron}\").Clone()\n",
    "print(h1.GetEntries())\n",
    "h1.Rebin(10)\n",
    "h1.SetLineColor(0)\n",
    "h1.Draw(\"\")\n",
    "\n",
    "i = 1\n",
    "urgh = []\n",
    "for mult in [\"Cheat\", \"Fixed\"]:\n",
    "    for reco in [\"RValue\", \"AdaBoost\"]:\n",
    "        hx = f.Get(f\"NeulandReco{mult}{reco}/fhErel{neutron}\").Clone()\n",
    "        hx.Rebin(10)\n",
    "        hx.SetLineColor(i)\n",
    "        hx.Draw(\"same\")\n",
    "        urgh.append(hx)\n",
    "        i += 1\n",
    "\n",
    "c1.Draw()"
   ]
  },
  {
   "cell_type": "code",
   "execution_count": null,
   "metadata": {},
   "outputs": [],
   "source": []
  }
 ],
 "metadata": {
  "kernelspec": {
   "display_name": "Python 3",
   "language": "python",
   "name": "python3"
  },
  "language_info": {
   "codemirror_mode": {
    "name": "ipython",
    "version": 3
   },
   "file_extension": ".py",
   "mimetype": "text/x-python",
   "name": "python",
   "nbconvert_exporter": "python",
   "pygments_lexer": "ipython3",
   "version": "3.7.6"
  }
 },
 "nbformat": 4,
 "nbformat_minor": 4
}
